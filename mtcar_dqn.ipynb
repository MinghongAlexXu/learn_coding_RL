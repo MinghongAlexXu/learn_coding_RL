{
 "cells": [
  {
   "cell_type": "code",
   "execution_count": 43,
   "metadata": {},
   "outputs": [
    {
     "data": {
      "text/plain": [
       "array([-0.4903313,  0.       ], dtype=float32)"
      ]
     },
     "execution_count": 43,
     "metadata": {},
     "output_type": "execute_result"
    }
   ],
   "source": [
    "import numpy as np\n",
    "import gym\n",
    "import matplotlib.pyplot as plt\n",
    "import time\n",
    "\n",
    "# Import and initialize Mountain Car Environment\n",
    "env = gym.make('MountainCar-v0')\n",
    "env.reset()"
   ]
  },
  {
   "cell_type": "code",
   "execution_count": 44,
   "metadata": {},
   "outputs": [
    {
     "name": "stdout",
     "output_type": "stream",
     "text": [
      "Episode 500 Average Reward: -200.0\n",
      "Episode 1000 Average Reward: -200.0\n",
      "Episode 1500 Average Reward: -200.0\n",
      "Episode 2000 Average Reward: -200.0\n",
      "Episode 2500 Average Reward: -200.0\n",
      "Episode 3000 Average Reward: -200.0\n",
      "Episode 3500 Average Reward: -200.0\n",
      "Episode 4000 Average Reward: -199.89\n",
      "Episode 4500 Average Reward: -199.35\n",
      "Episode 5000 Average Reward: -199.09\n",
      "Episode 5500 Average Reward: -198.99\n",
      "Episode 6000 Average Reward: -184.52\n",
      "Episode 6500 Average Reward: -199.7\n",
      "Episode 7000 Average Reward: -185.12\n",
      "Episode 7500 Average Reward: -196.49\n",
      "Episode 8000 Average Reward: -156.25\n"
     ]
    }
   ],
   "source": [
    "# Define Q-learning function\n",
    "def QLearning(env, learning, discount, epsilon, min_eps, episodes):\n",
    "    # Determine size of discretized state space\n",
    "    num_states = (env.observation_space.high - env.observation_space.low)*\\\n",
    "                    np.array([10, 100])\n",
    "    num_states = np.round(num_states, 0).astype(int) + 1\n",
    "    \n",
    "    # Initialize Q table\n",
    "    Q = np.random.uniform(low = -1, high = 1, \n",
    "                          size = (num_states[0], num_states[1], \n",
    "                                  env.action_space.n))\n",
    "    \n",
    "    # Initialize variables to track rewards\n",
    "    reward_list = []\n",
    "    ave_reward_list = []\n",
    "    \n",
    "    # Calculate episodic reduction in epsilon\n",
    "    reduction = (epsilon - min_eps)/episodes\n",
    "    \n",
    "    # Run Q learning algorithm\n",
    "    for i in range(episodes):\n",
    "        # Initialize parameters\n",
    "        done = False\n",
    "        tot_reward, reward = 0,0\n",
    "        state = env.reset()\n",
    "        \n",
    "        # Discretize state\n",
    "        state_adj = (state - env.observation_space.low)*np.array([10, 100])\n",
    "        state_adj = np.round(state_adj, 0).astype(int)\n",
    "    \n",
    "        while done != True:   \n",
    "            # Render environment for last five episodes\n",
    "            # if i == (episodes - 20):\n",
    "            #     env.render()\n",
    "            # if i == (episodes - 15):    \n",
    "            #     env.render()\n",
    "            # if i == (episodes - 10):\n",
    "            #     env.render()\n",
    "            # if i == (episodes - 5):\n",
    "            #     env.render()\n",
    "            # if i == (episodes - 0):\n",
    "            #     env.render()\n",
    "            #     time.sleep(60)\n",
    "            if i >= (episodes - 10):\n",
    "                env.render()\n",
    "                time.sleep(0.05)\n",
    "\n",
    "            # # Render environment for the last episodes\n",
    "            # if i == (episodes):\n",
    "            #     env.render()\n",
    "                \n",
    "            # Determine next action - epsilon greedy strategy\n",
    "            if np.random.random() < 1 - epsilon:\n",
    "                action = np.argmax(Q[state_adj[0], state_adj[1]]) \n",
    "            else:\n",
    "                action = np.random.randint(0, env.action_space.n)\n",
    "                \n",
    "            # Get next state and reward\n",
    "            state2, reward, done, info = env.step(action) \n",
    "            \n",
    "            # Discretize state2\n",
    "            state2_adj = (state2 - env.observation_space.low)*np.array([10, 100])\n",
    "            state2_adj = np.round(state2_adj, 0).astype(int)\n",
    "            \n",
    "            #Allow for terminal states\n",
    "            if done and state2[0] >= 0.5:\n",
    "                Q[state_adj[0], state_adj[1], action] = reward\n",
    "                \n",
    "            # Adjust Q value for current state\n",
    "            else:\n",
    "                delta = learning*(reward + \n",
    "                                 discount*np.max(Q[state2_adj[0], \n",
    "                                                   state2_adj[1]]) - \n",
    "                                 Q[state_adj[0], state_adj[1],action])\n",
    "                Q[state_adj[0], state_adj[1],action] += delta\n",
    "                                     \n",
    "            # Update variables\n",
    "            tot_reward += reward\n",
    "            state_adj = state2_adj\n",
    "        \n",
    "        # Decay epsilon\n",
    "        if epsilon > min_eps:\n",
    "            epsilon -= reduction\n",
    "        \n",
    "        # Track rewards\n",
    "        reward_list.append(tot_reward)\n",
    "        \n",
    "        if (i+1) % 100 == 0:\n",
    "            ave_reward = np.mean(reward_list)\n",
    "            ave_reward_list.append(ave_reward)\n",
    "            reward_list = []\n",
    "            \n",
    "        if (i+1) % 500 == 0:    \n",
    "            print('Episode {} Average Reward: {}'.format(i+1, ave_reward))\n",
    "            \n",
    "    env.close()            \n",
    "            # if i == (episodes - 20):\n",
    "            #     env.render()\n",
    "            # if i == (episodes - 15):    \n",
    "            #     env.render()\n",
    "            # if i == (episodes - 10):\n",
    "            #     env.render()\n",
    "            # if i == (episodes - 5):\n",
    "            #     env.render()\n",
    "    \n",
    "    return ave_reward_list\n",
    "\n",
    "# Run Q-learning algorithm\n",
    "rewards = QLearning(env, 0.05, 0.9, 0.95, 0, 8000)"
   ]
  },
  {
   "cell_type": "markdown",
   "metadata": {},
   "source": [
    "## Plot figure"
   ]
  },
  {
   "cell_type": "code",
   "execution_count": 45,
   "metadata": {},
   "outputs": [],
   "source": [
    "# Plot Rewards\n",
    "# plt.plot(50*(np.arange(len(rewards)) + 1), rewards)\n",
    "# plt.xlabel('Episodes')\n",
    "# plt.ylabel('Average Reward')\n",
    "# plt.title('Average Reward vs Episodes')\n",
    "# plt.savefig('rewards.jpg')     \n",
    "# plt.close()  "
   ]
  },
  {
   "cell_type": "code",
   "execution_count": 46,
   "metadata": {},
   "outputs": [],
   "source": [
    "import argparse\n",
    "import logging\n",
    "\n",
    "parser = argparse.ArgumentParser()\n",
    "parser.add_argument('--env',       type=str,   default='MountainCar-v0')\n",
    "parser.add_argument('--seed',      type=int,   default=0)\n",
    "parser.add_argument('--gpu',       type=int,   default=0)\n",
    "parser.add_argument('--outdir',    type=str,   default='results')\n",
    "parser.add_argument('--beta',      type=float, default=1e-4)\n",
    "parser.add_argument('--batchsize', type=int,   default=10)\n",
    "parser.add_argument('--steps',     type=int,   default=1000)\n",
    "parser.add_argument('--lr',        type=float, default=1e-3)\n",
    "parser.add_argument('--logger-level', type=int, default=logging.DEBUG)\n",
    "\n",
    "parser.add_argument('--eval-interval', type=int, default=10 ** 4)\n",
    "parser.add_argument('--eval-n-runs', type=int, default=100)\n",
    "\n",
    "args, unknown = parser.parse_known_args()\n",
    "\n",
    "logging.basicConfig(level=args.logger_level)"
   ]
  },
  {
   "cell_type": "markdown",
   "metadata": {},
   "source": [
    "## Environment"
   ]
  },
  {
   "cell_type": "code",
   "execution_count": 47,
   "metadata": {},
   "outputs": [
    {
     "data": {
      "text/plain": [
       "[0]"
      ]
     },
     "execution_count": 47,
     "metadata": {},
     "output_type": "execute_result"
    }
   ],
   "source": [
    "# ENVIROMNET\n",
    "import gym\n",
    "import chainerrl\n",
    "\n",
    "env = gym.make(args.env)\n",
    "env = chainerrl.wrappers.CastObservationToFloat32(env)  # Cast observations to float32 because our model uses float32\n",
    "env = chainerrl.wrappers.Render(env)\n",
    "chainerrl.misc.set_random_seed(args.seed, gpus=(args.gpu,))\n",
    "env.seed(args.seed)"
   ]
  },
  {
   "cell_type": "markdown",
   "metadata": {},
   "source": [
    "## NN"
   ]
  },
  {
   "cell_type": "code",
   "execution_count": 48,
   "metadata": {},
   "outputs": [],
   "source": [
    "import chainer\n",
    "\n",
    "obs_space    = env.observation_space\n",
    "action_space = env.action_space\n",
    "\n",
    "model = chainerrl.policies.FCSoftmaxPolicy(\n",
    "    obs_space.low.size,\n",
    "    action_space.n,\n",
    "    n_hidden_channels=200,\n",
    "    n_hidden_layers=2,\n",
    "    nonlinearity=chainer.functions.leaky_relu,)\n",
    "\n",
    "if args.gpu >= 0:\n",
    "    chainer.cuda.get_device_from_id(args.gpu).use()\n",
    "    model.to_gpu(args.gpu)\n",
    "\n",
    "opt = chainer.optimizers.Adam(alpha=args.lr)\n",
    "opt.setup(model)\n",
    "opt.add_hook(chainer.optimizer.GradientClipping(1))"
   ]
  },
  {
   "cell_type": "markdown",
   "metadata": {},
   "source": [
    "## Agent"
   ]
  },
  {
   "cell_type": "code",
   "execution_count": 49,
   "metadata": {},
   "outputs": [],
   "source": [
    "agent = chainerrl.agents.REINFORCE(\n",
    "    model, \n",
    "    opt, \n",
    "    beta=args.beta, \n",
    "    batchsize=args.batchsize)"
   ]
  },
  {
   "cell_type": "markdown",
   "metadata": {},
   "source": [
    "## Evaluate"
   ]
  },
  {
   "cell_type": "code",
   "execution_count": null,
   "metadata": {},
   "outputs": [],
   "source": []
  }
 ],
 "metadata": {
  "kernelspec": {
   "display_name": "Python 3.9.12 ('study-gym')",
   "language": "python",
   "name": "python3"
  },
  "language_info": {
   "codemirror_mode": {
    "name": "ipython",
    "version": 3
   },
   "file_extension": ".py",
   "mimetype": "text/x-python",
   "name": "python",
   "nbconvert_exporter": "python",
   "pygments_lexer": "ipython3",
   "version": "3.9.12"
  },
  "orig_nbformat": 4,
  "vscode": {
   "interpreter": {
    "hash": "21c46655a63e21f82e7e281c89b81a2e0ed8adae0203e72399bd0b82a0746dec"
   }
  }
 },
 "nbformat": 4,
 "nbformat_minor": 2
}
