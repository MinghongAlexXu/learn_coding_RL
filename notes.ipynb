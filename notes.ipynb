{
 "cells": [
  {
   "cell_type": "code",
   "execution_count": null,
   "metadata": {},
   "outputs": [],
   "source": [
    "# Switch policy types accordingly to action space types\n",
    "if isinstance(action_space, gym.spaces.Box):\n",
    "    model = chainerrl.policies.FCGaussianPolicyWithFixedCovariance(\n",
    "        obs_space.low.size,\n",
    "        action_space.low.size,\n",
    "        var=0.1,\n",
    "        n_hidden_channels=200,\n",
    "        n_hidden_layers=2,\n",
    "        nonlinearity=chainer.functions.leaky_relu,)\n",
    "else:\n",
    "    model = chainerrl.policies.FCSoftmaxPolicy(\n",
    "        obs_space.low.size,\n",
    "        action_space.n,\n",
    "        n_hidden_channels=200,\n",
    "        n_hidden_layers=2,\n",
    "        nonlinearity=chainer.functions.leaky_relu,)\n"
   ]
  },
  {
   "cell_type": "code",
   "execution_count": null,
   "metadata": {},
   "outputs": [],
   "source": [
    "obs = env.reset()\n",
    "\n",
    "for step in range(1500):\n",
    "    \n",
    "    action = agent(obs) \n",
    "\n",
    "    obs, reward, done, info = env.step(action)\n",
    "    \n",
    "    env.render()\n",
    "\n",
    "    if done:\n",
    "        env.reset()\n",
    "\n",
    "env.close()"
   ]
  },
  {
   "cell_type": "code",
   "execution_count": null,
   "metadata": {},
   "outputs": [],
   "source": [
    "# env.render(mode = \"human\")\n",
    "# env.close()\n",
    "\n",
    "env_screen = env.render(mode = 'rgb_array')\n",
    "env.close()\n",
    "\n",
    "import matplotlib.pyplot as plt \n",
    "plt.imshow(env_screen)"
   ]
  },
  {
   "cell_type": "markdown",
   "metadata": {},
   "source": [
    "ctrl+D selects whole word"
   ]
  }
 ],
 "metadata": {
  "language_info": {
   "name": "python"
  },
  "orig_nbformat": 4
 },
 "nbformat": 4,
 "nbformat_minor": 2
}
